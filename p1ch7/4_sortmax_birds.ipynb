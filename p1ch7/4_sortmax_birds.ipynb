{
 "cells": [
  {
   "cell_type": "code",
   "execution_count": 1,
   "metadata": {
    "collapsed": true
   },
   "outputs": [
    {
     "name": "stdout",
     "output_type": "stream",
     "text": [
      "Files already downloaded and verified\n",
      "Files already downloaded and verified\n",
      "Files already downloaded and verified\n",
      "Files already downloaded and verified\n",
      "frog\n"
     ]
    },
    {
     "data": {
      "text/plain": "<Figure size 640x480 with 1 Axes>",
      "image/png": "[encoded data removed]"
     },
     "metadata": {},
     "output_type": "display_data"
    }
   ],
   "source": [
    "from matplotlib import pyplot as plt\n",
    "import numpy as np\n",
    "import torch\n",
    "import torchvision\n",
    "import torchvision.transforms as transforms\n",
    "import torch.nn as nn\n",
    "import torch.optim as optim\n",
    "\n",
    "# 打印更紧凑\n",
    "# torch.set_printoptions(edgeitems=2)\n",
    "\"\"\"\n",
    "`torch.manual_seed(123)`是PyTorch中用于设置随机数种子的函数，其中`123`是一个整数值，表示随机数种子。\n",
    "在深度学习中，许多操作都会涉及到随机数生成，如参数初始化、数据扰动等。为了保证实验的可重复性，需要使用相同的随机数种子来生成随机数序列。这样可以确保每次运行实验时，得到的结果都是一样的。\n",
    "因此，通过调用`torch.manual_seed()`函数，可以设置随机数种子，使得每次生成的随机数序列都是相同的。这样就能够保证实验的可重复性，方便进行调试和比较实验结果。\n",
    "需要注意的是，`torch.manual_seed()`函数只在当前进程中生效，不会影响其他进程或者线程中的随机数种子。如果需要在多进程或者多线程中保持随机数种子一致，需要在每个进程或者线程中都调用`torch.manual_seed()`函数。\n",
    "\"\"\"\n",
    "torch.manual_seed(123)\n",
    "\n",
    "# 常量\n",
    "class_names = ['airplane','automobile','bird','cat','deer',\n",
    "               'dog','frog','horse','ship','truck']\n",
    "\n",
    "transform = transforms.Compose([transforms.ToTensor(),\n",
    "        transforms.Normalize((0.4915, 0.4823, 0.4468),\n",
    "                             (0.2470, 0.2435, 0.2616))])\n",
    "\n",
    "trainset = torchvision.datasets.CIFAR10(root='./data', train=True,\n",
    "                                        download=True, transform=transform)\n",
    "\n",
    "testset = torchvision.datasets.CIFAR10(root='./data', train=False,\n",
    "                                       download=True, transform=transform)\n",
    "\n",
    "data_path = '../data-unversioned/p1ch7/'\n",
    "# 标准集\n",
    "cifar10_standard = torchvision.datasets.CIFAR10(data_path, train=True, download=True) # <1>\n",
    "# 验证集合\n",
    "cifar10_val_standard = torchvision.datasets.CIFAR10(data_path, train=False, download=True) # <2>\n",
    "\n",
    "# 定义超参数\n",
    "input_num = 3*32*32\n",
    "hidden_num = 512\n",
    "output_num = 2\n",
    "learning_rate = 0.001\n",
    "\n",
    "# 展示标准1\n",
    "img_s_1, label_s_1 = cifar10_standard[0]\n",
    "plt.imshow(img_s_1)\n",
    "print(class_names[label_s_1])\n",
    "plt.show()"
   ]
  },
  {
   "cell_type": "code",
   "execution_count": 2,
   "outputs": [],
   "source": [
    "loss = nn.NLLLoss()"
   ],
   "metadata": {
    "collapsed": false
   }
  },
  {
   "cell_type": "code",
   "execution_count": 4,
   "outputs": [
    {
     "name": "stderr",
     "output_type": "stream",
     "text": [
      "Clipping input data to the valid range for imshow with RGB data ([0..1] for floats or [0..255] for integers).\n"
     ]
    },
    {
     "data": {
      "text/plain": "<Figure size 640x480 with 1 Axes>",
      "image/png": "[encoded data removed]"
     },
     "metadata": {},
     "output_type": "display_data"
    },
    {
     "name": "stdout",
     "output_type": "stream",
     "text": [
      "1\n",
      "tensor([[-0.8320, -0.5712]], grad_fn=<LogSoftmaxBackward0>)\n"
     ]
    },
    {
     "data": {
      "text/plain": "tensor(0.5712, grad_fn=<NllLossBackward0>)"
     },
     "execution_count": 4,
     "metadata": {},
     "output_type": "execute_result"
    }
   ],
   "source": [
    "label_map = {0: 0, 2: 1, 6: 2}\n",
    "# class_names = ['airplane','bird','frog']\n",
    "cifar2 = [(img, label_map[label])\n",
    "          for img, label in trainset\n",
    "          if label in [0, 2]]\n",
    "\n",
    "cifar2_val = [(img, label_map[label])\n",
    "              for img, label in testset\n",
    "              if label in [0, 2]]\n",
    "\n",
    "# model1 = nn.Sequential(\n",
    "#             nn.Linear(input_num, hidden_num),\n",
    "#             nn.Tanh(),\n",
    "#             nn.Linear(hidden_num, output_num),\n",
    "#             nn.LogSoftmax(dim=1))\n",
    "\n",
    "model1 = nn.Sequential(\n",
    "            nn.Linear(3072, 512),\n",
    "            nn.Tanh(),\n",
    "            nn.Linear(512, 2),\n",
    "            nn.LogSoftmax(dim=1))\n",
    "\n",
    "optimizer = optim.SGD(model1.parameters(), lr=learning_rate)\n",
    "\n",
    "img_1, label_1 = trainset[0]\n",
    "plt.imshow(img_1.permute(1, 2, 0))\n",
    "plt.show()\n",
    "\n",
    "img, label = cifar2[0]\n",
    "print(label)\n",
    "out = model1(img.view(-1).unsqueeze(0))\n",
    "print(out)\n",
    "loss(out, torch.tensor([label]))\n"
   ],
   "metadata": {
    "collapsed": false
   }
  },
  {
   "cell_type": "code",
   "execution_count": null,
   "outputs": [],
   "source": [
    "# 定义全连接神经网络模型类\n",
    "class Classifier(nn.Module):\n",
    "    def __init__(self, input_dim, hidden_dim, output_dim):\n",
    "        super(Classifier, self).__init__()\n",
    "        self.fc1 = nn.Linear(input_dim, hidden_dim)\n",
    "        self.tanh = nn.Tanh()\n",
    "        self.fc2 = nn.Linear(hidden_dim, output_dim)\n",
    "        self.LogSoftmax = nn.LogSoftmax(dim=1)\n",
    "\n",
    "    # nn.Tanh()\n",
    "    def forward(self, x):\n",
    "        # x = x.view(-1, 3072)\n",
    "        x = self.fc1(x)\n",
    "        x = self.tanh(x)\n",
    "        x = self.fc2(x)\n",
    "        x = self.LogSoftmax(x)\n",
    "        return x\n",
    "\n",
    "\n",
    "# 创建模型对象、损失函数对象和优化器对象\n",
    "model = Classifier(input_num, hidden_num, output_num)\n",
    "criterion = nn.CrossEntropyLoss()\n",
    "# optimizer = optim.Adam(model.parameters(), lr=learning_rate)\n",
    "\n",
    "# 单次训练\n",
    "# img, label = trainset[0]\n",
    "img, label = cifar2[0]\n",
    "out = model(img.view(-1).unsqueeze(0))\n",
    "# out = model(img)\n",
    "# 计算损失并进行反向传播和优化\n",
    "t_label = torch.tensor([label])\n",
    "print(out)\n",
    "# print(loss(out, torch.tensor([label])))\n",
    "# loss = loss(out, torch.tensor([label]))\n",
    "print(criterion(out, torch.tensor([label])))"
   ],
   "metadata": {
    "collapsed": false
   }
  },
  {
   "cell_type": "code",
   "execution_count": null,
   "outputs": [],
   "source": [],
   "metadata": {
    "collapsed": false
   }
  }
 ],
 "metadata": {
  "kernelspec": {
   "display_name": "Python 3",
   "language": "python",
   "name": "python3"
  },
  "language_info": {
   "codemirror_mode": {
    "name": "ipython",
    "version": 2
   },
   "file_extension": ".py",
   "mimetype": "text/x-python",
   "name": "python",
   "nbconvert_exporter": "python",
   "pygments_lexer": "ipython2",
   "version": "2.7.6"
  }
 },
 "nbformat": 4,
 "nbformat_minor": 0
}
