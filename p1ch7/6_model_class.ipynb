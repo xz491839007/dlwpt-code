{
 "cells": [
  {
   "cell_type": "code",
   "execution_count": 9,
   "metadata": {
    "collapsed": true
   },
   "outputs": [
    {
     "data": {
      "text/plain": "<torch._C.Generator at 0x107ce7210>"
     },
     "execution_count": 9,
     "metadata": {},
     "output_type": "execute_result"
    }
   ],
   "source": [
    "from matplotlib import pyplot as plt\n",
    "import numpy as np\n",
    "import torch\n",
    "import torchvision\n",
    "import torchvision.transforms as transforms\n",
    "import torch.nn as nn\n",
    "import torch.optim as optim\n",
    "import time\n",
    "\n",
    "torch.set_printoptions(edgeitems=2)\n",
    "# 默认当前数据处理\n",
    "torch.manual_seed(123)\n"
   ]
  },
  {
   "cell_type": "code",
   "execution_count": 10,
   "outputs": [
    {
     "name": "stdout",
     "output_type": "stream",
     "text": [
      "Files already downloaded and verified\n",
      "Files already downloaded and verified\n"
     ]
    }
   ],
   "source": [
    "# 加载数据集并进行预处理\n",
    "transform = transforms.Compose([\n",
    "    transforms.ToTensor(),\n",
    "    transforms.Normalize((0.5, 0.5, 0.5), (0.5, 0.5, 0.5))\n",
    "])\n",
    "trainset = torchvision.datasets.CIFAR10(root='./data', train=True,\n",
    "                            download=True, transform=transform)\n",
    "testset = torchvision.datasets.CIFAR10(root='./data', train=False,\n",
    "                           download=True, transform=transform)\n",
    "trainloader = torch.utils.data.DataLoader(trainset, batch_size=100,\n",
    "                                          shuffle=True, num_workers=2)\n",
    "testloader = torch.utils.data.DataLoader(testset, batch_size=100,\n",
    "                                         shuffle=False, num_workers=2)"
   ],
   "metadata": {
    "collapsed": false
   }
  },
  {
   "cell_type": "code",
   "execution_count": 11,
   "outputs": [
    {
     "name": "stdout",
     "output_type": "stream",
     "text": [
      "[1,   100] loss: 2.271\n",
      "[1,   200] loss: 2.190\n",
      "[1,   300] loss: 2.094\n",
      "[1,   400] loss: 2.038\n",
      "[1,   500] loss: 1.974\n",
      "[2,   100] loss: 1.923\n",
      "[2,   200] loss: 1.886\n",
      "[2,   300] loss: 1.849\n",
      "[2,   400] loss: 1.825\n",
      "[2,   500] loss: 1.796\n",
      "[3,   100] loss: 1.759\n",
      "[3,   200] loss: 1.740\n",
      "[3,   300] loss: 1.739\n",
      "[3,   400] loss: 1.716\n",
      "[3,   500] loss: 1.702\n",
      "[4,   100] loss: 1.679\n",
      "[4,   200] loss: 1.680\n",
      "[4,   300] loss: 1.653\n",
      "[4,   400] loss: 1.629\n",
      "[4,   500] loss: 1.624\n",
      "[5,   100] loss: 1.607\n",
      "[5,   200] loss: 1.616\n",
      "[5,   300] loss: 1.592\n",
      "[5,   400] loss: 1.597\n",
      "[5,   500] loss: 1.572\n",
      "[6,   100] loss: 1.550\n",
      "[6,   200] loss: 1.565\n",
      "[6,   300] loss: 1.551\n",
      "[6,   400] loss: 1.549\n",
      "[6,   500] loss: 1.536\n",
      "[7,   100] loss: 1.518\n",
      "[7,   200] loss: 1.516\n",
      "[7,   300] loss: 1.504\n",
      "[7,   400] loss: 1.500\n",
      "[7,   500] loss: 1.508\n",
      "[8,   100] loss: 1.487\n",
      "[8,   200] loss: 1.477\n",
      "[8,   300] loss: 1.478\n",
      "[8,   400] loss: 1.451\n",
      "[8,   500] loss: 1.457\n",
      "[9,   100] loss: 1.446\n",
      "[9,   200] loss: 1.425\n",
      "[9,   300] loss: 1.443\n",
      "[9,   400] loss: 1.421\n",
      "[9,   500] loss: 1.440\n",
      "[10,   100] loss: 1.400\n",
      "[10,   200] loss: 1.417\n",
      "[10,   300] loss: 1.396\n",
      "[10,   400] loss: 1.398\n",
      "[10,   500] loss: 1.398\n",
      "运行时间为： 162.06906390190125 秒\n",
      "Training finished\n"
     ]
    }
   ],
   "source": [
    "# 定义模型\n",
    "class Net(nn.Module):\n",
    "    def __init__(self):\n",
    "        super(Net, self).__init__()\n",
    "        self.fc1 = nn.Linear(32*32*3, 512)\n",
    "        self.fc2 = nn.Linear(512, 256)\n",
    "        self.fc3 = nn.Linear(256, 10)\n",
    "        self.relu = nn.ReLU()\n",
    "\n",
    "    def forward(self, x):\n",
    "        x = x.view(-1, 32*32*3)  # 展开输入特征图\n",
    "        x = self.relu(self.fc1(x))\n",
    "        x = self.relu(self.fc2(x))\n",
    "        x = self.fc3(x)\n",
    "        return x\n",
    "\n",
    "net = Net()\n",
    "\n",
    "# 定义损失函数和优化器\n",
    "criterion = nn.CrossEntropyLoss()\n",
    "optimizer = optim.SGD(net.parameters(), lr=0.001, momentum=0.9)\n",
    "\n",
    "start_time = time.time()\n",
    "# 训练模型\n",
    "for epoch in range(10):\n",
    "    running_loss = 0.0\n",
    "    for i, data in enumerate(trainloader, 0):\n",
    "        inputs, labels = data\n",
    "        optimizer.zero_grad()\n",
    "        outputs = net(inputs)\n",
    "        loss = criterion(outputs, labels)\n",
    "        loss.backward()\n",
    "        optimizer.step()\n",
    "\n",
    "        running_loss += loss.item()\n",
    "        if i % 100 == 99:\n",
    "            print('[%d, %5d] loss: %.3f' %\n",
    "                  (epoch + 1, i + 1, running_loss / 100))\n",
    "            running_loss = 0.0\n",
    "end_time = time.time()\n",
    "total_time = end_time - start_time\n",
    "print(\"运行时间为：\", total_time, \"秒\")\n",
    "print('Training finished')"
   ],
   "metadata": {
    "collapsed": false
   }
  },
  {
   "cell_type": "code",
   "execution_count": 12,
   "outputs": [
    {
     "name": "stdout",
     "output_type": "stream",
     "text": [
      "Accuracy on test set: 50 %\n"
     ]
    }
   ],
   "source": [
    "# 在测试集上评估模型性能\n",
    "correct = 0\n",
    "total = 0\n",
    "with torch.no_grad():\n",
    "    for data in testloader:\n",
    "        images, labels = data\n",
    "        outputs = net(images)\n",
    "        _, predicted = torch.max(outputs.data, dim=1)\n",
    "        total += labels.size(0)\n",
    "        correct += (predicted == labels).sum().item()\n",
    "\n",
    "print('Accuracy on test set: %d %%' % (100 * correct / total))"
   ],
   "metadata": {
    "collapsed": false
   }
  }
 ],
 "metadata": {
  "kernelspec": {
   "display_name": "Python 3",
   "language": "python",
   "name": "python3"
  },
  "language_info": {
   "codemirror_mode": {
    "name": "ipython",
    "version": 2
   },
   "file_extension": ".py",
   "mimetype": "text/x-python",
   "name": "python",
   "nbconvert_exporter": "python",
   "pygments_lexer": "ipython2",
   "version": "2.7.6"
  }
 },
 "nbformat": 4,
 "nbformat_minor": 0
}
