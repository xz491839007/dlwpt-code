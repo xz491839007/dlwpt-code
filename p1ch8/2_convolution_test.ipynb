{
 "cells": [
  {
   "cell_type": "code",
   "execution_count": 5,
   "metadata": {
    "collapsed": true
   },
   "outputs": [
    {
     "data": {
      "text/plain": "<torch._C.Generator at 0x10ea16e70>"
     },
     "execution_count": 5,
     "metadata": {},
     "output_type": "execute_result"
    }
   ],
   "source": [
    "%matplotlib inline\n",
    "from matplotlib import pyplot as plt\n",
    "import numpy as np\n",
    "import collections\n",
    "import torchvision\n",
    "import time\n",
    "import torch\n",
    "import torch.nn as nn\n",
    "import torch.nn.functional as F\n",
    "import torch.optim as optim\n",
    "\n",
    "torch.set_printoptions(edgeitems=2)\n",
    "# 默认当前数据处理\n",
    "torch.manual_seed(123)\n"
   ]
  },
  {
   "cell_type": "code",
   "execution_count": 6,
   "outputs": [
    {
     "name": "stdout",
     "output_type": "stream",
     "text": [
      "True\n",
      "True\n"
     ]
    }
   ],
   "source": [
    "# import torch\n",
    "print(torch.backends.mps.is_available())\n",
    "print(torch.backends.mps.is_built())"
   ],
   "metadata": {
    "collapsed": false
   }
  },
  {
   "cell_type": "code",
   "execution_count": 10,
   "outputs": [
    {
     "name": "stdout",
     "output_type": "stream",
     "text": [
      "device :  0\n",
      "13.507621049880981\n",
      "0.14917302131652832\n",
      "0.2407679557800293\n",
      "0.24080204963684082\n",
      "0.2424602508544922\n",
      "0.23795676231384277\n",
      "0.2442789077758789\n",
      "0.24071502685546875\n",
      "0.24068689346313477\n",
      "0.241530179977417\n",
      "0.2407538890838623\n",
      "0.24081110954284668\n",
      "0.24127197265625\n",
      "0.240739107131958\n",
      "0.2394721508026123\n",
      "0.24626374244689941\n",
      "0.2424159049987793\n",
      "0.2393960952758789\n",
      "0.23871779441833496\n",
      "0.23920822143554688\n",
      "0.2403099536895752\n",
      "0.2614421844482422\n",
      "0.2244400978088379\n",
      "0.24068474769592285\n",
      "0.2398059368133545\n",
      "0.23934006690979004\n",
      "0.23982906341552734\n",
      "0.23980188369750977\n",
      "0.23938894271850586\n",
      "0.23984408378601074\n",
      "0.23947596549987793\n",
      "0.24017596244812012\n",
      "0.23985695838928223\n",
      "0.24012994766235352\n",
      "0.23911380767822266\n",
      "0.23957610130310059\n",
      "0.23978090286254883\n",
      "0.23978400230407715\n",
      "0.23909497261047363\n",
      "0.239915132522583\n",
      "0.23968100547790527\n",
      "0.24042224884033203\n",
      "0.23971819877624512\n",
      "0.23977208137512207\n",
      "0.23918914794921875\n",
      "0.24003815650939941\n",
      "0.23984122276306152\n",
      "0.239119291305542\n",
      "0.239670991897583\n",
      "0.23929214477539062\n",
      "0.23981285095214844\n",
      "0.23950409889221191\n",
      "0.2404029369354248\n",
      "0.24005508422851562\n",
      "0.24002408981323242\n",
      "0.23998689651489258\n",
      "0.2397167682647705\n",
      "0.23956704139709473\n",
      "0.23993897438049316\n",
      "0.23972201347351074\n",
      "0.23999595642089844\n",
      "0.23964905738830566\n",
      "0.23926830291748047\n",
      "0.24001479148864746\n",
      "0.23951268196105957\n",
      "0.23980283737182617\n",
      "0.23967504501342773\n",
      "0.23941874504089355\n",
      "0.23999404907226562\n",
      "0.23940086364746094\n",
      "0.24161100387573242\n",
      "0.2399120330810547\n",
      "0.2393481731414795\n",
      "0.23919415473937988\n",
      "0.23903989791870117\n",
      "0.2402510643005371\n",
      "0.23925209045410156\n",
      "0.23916411399841309\n",
      "0.23963212966918945\n",
      "0.24058890342712402\n",
      "0.2396399974822998\n",
      "0.24020910263061523\n",
      "0.23868894577026367\n",
      "0.2399001121520996\n",
      "0.2397150993347168\n",
      "0.23929309844970703\n",
      "0.23967385292053223\n",
      "0.23974609375\n",
      "0.23951506614685059\n",
      "0.23996996879577637\n",
      "0.23918604850769043\n",
      "0.23916411399841309\n",
      "0.23951101303100586\n",
      "0.23896098136901855\n",
      "0.24009394645690918\n",
      "0.23944878578186035\n",
      "0.23956990242004395\n",
      "0.23956084251403809\n",
      "0.2398519515991211\n",
      "0.2421281337738037\n",
      "运行时间为： 37.19389486312866 秒\n"
     ]
    }
   ],
   "source": [
    "deviceType = \"mps\"\n",
    "batch = 16\n",
    "\n",
    "randImage = torch.rand((batch,3,224,224)).to(deviceType)\n",
    "\n",
    "net = torchvision.models.resnet152().to(deviceType)\n",
    "net.train()\n",
    "print(\"device : \",randImage.get_device())\n",
    "opt = torch.optim.SGD(net.parameters(),lr=0.001)\n",
    "cel = torch.nn.CrossEntropyLoss()\n",
    "label = torch.ones((batch),dtype=torch.long).to(deviceType)\n",
    "\n",
    "start_time = time.time()\n",
    "for i in range(100):\n",
    "    t1 = time.time()\n",
    "    a = net(randImage)\n",
    "    opt.zero_grad()\n",
    "    loss = cel.forward(a,label)\n",
    "    opt.step()\n",
    "    t2 = time.time()\n",
    "    print(t2 - t1)\n",
    "end_time = time.time()\n",
    "total_time = end_time - start_time\n",
    "print(\"运行时间为：\", total_time, \"秒\")"
   ],
   "metadata": {
    "collapsed": false
   }
  },
  {
   "cell_type": "code",
   "execution_count": 1,
   "outputs": [
    {
     "ename": "NameError",
     "evalue": "name 'torch' is not defined",
     "output_type": "error",
     "traceback": [
      "\u001B[0;31m---------------------------------------------------------------------------\u001B[0m",
      "\u001B[0;31mNameError\u001B[0m                                 Traceback (most recent call last)",
      "Cell \u001B[0;32mIn[1], line 3\u001B[0m\n\u001B[1;32m      1\u001B[0m batch \u001B[38;5;241m=\u001B[39m \u001B[38;5;241m16\u001B[39m\n\u001B[0;32m----> 3\u001B[0m randImage \u001B[38;5;241m=\u001B[39m \u001B[43mtorch\u001B[49m\u001B[38;5;241m.\u001B[39mrand((batch,\u001B[38;5;241m3\u001B[39m,\u001B[38;5;241m224\u001B[39m,\u001B[38;5;241m224\u001B[39m))\n\u001B[1;32m      5\u001B[0m net \u001B[38;5;241m=\u001B[39m torchvision\u001B[38;5;241m.\u001B[39mmodels\u001B[38;5;241m.\u001B[39mresnet152()\n\u001B[1;32m      6\u001B[0m net\u001B[38;5;241m.\u001B[39mtrain()\n",
      "\u001B[0;31mNameError\u001B[0m: name 'torch' is not defined"
     ]
    }
   ],
   "source": [
    "batch = 16\n",
    "\n",
    "randImage = torch.rand((batch,3,224,224))\n",
    "\n",
    "net = torchvision.models.resnet152()\n",
    "net.train()\n",
    "print(\"device : \",randImage.get_device())\n",
    "opt = torch.optim.SGD(net.parameters(),lr=0.001)\n",
    "cel = torch.nn.CrossEntropyLoss()\n",
    "label = torch.ones((batch),dtype=torch.long)\n",
    "start_time = time.time()\n",
    "\n",
    "for i in range(100):\n",
    "    t1 = time.time()\n",
    "    a = net(randImage)\n",
    "    opt.zero_grad()\n",
    "    loss = cel.forward(a,label)\n",
    "    opt.step()\n",
    "    t2 = time.time()\n",
    "    print(t2 - t1)\n",
    "\n",
    "end_time = time.time()\n",
    "total_time = end_time - start_time\n",
    "print(\"运行时间为：\", total_time, \"秒\")"
   ],
   "metadata": {
    "collapsed": false
   }
  },
  {
   "cell_type": "code",
   "execution_count": 7,
   "outputs": [],
   "source": [],
   "metadata": {
    "collapsed": false
   }
  }
 ],
 "metadata": {
  "kernelspec": {
   "display_name": "Python 3",
   "language": "python",
   "name": "python3"
  },
  "language_info": {
   "codemirror_mode": {
    "name": "ipython",
    "version": 2
   },
   "file_extension": ".py",
   "mimetype": "text/x-python",
   "name": "python",
   "nbconvert_exporter": "python",
   "pygments_lexer": "ipython2",
   "version": "2.7.6"
  }
 },
 "nbformat": 4,
 "nbformat_minor": 0
}
