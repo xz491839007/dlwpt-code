{
 "cells": [
  {
   "cell_type": "code",
   "execution_count": 5,
   "metadata": {
    "collapsed": true,
    "ExecuteTime": {
     "end_time": "2023-06-25T09:19:00.488049800Z",
     "start_time": "2023-06-25T09:18:58.798671500Z"
    }
   },
   "outputs": [
    {
     "name": "stdout",
     "output_type": "stream",
     "text": [
      "Files already downloaded and verified\n",
      "Files already downloaded and verified\n"
     ]
    }
   ],
   "source": [
    "import torch# 残差网络\n",
    "import torch.nn.functional as F\n",
    "import torch.nn as nn\n",
    "import torch.optim as optim\n",
    "import torchvision.datasets as datasets\n",
    "import torchvision.transforms as transforms\n",
    "import torchvision.models as models\n",
    "import datetime\n",
    "import time\n",
    "\n",
    "# 加载数据集并进行预处理\n",
    "transform_train = transforms.Compose([\n",
    "    transforms.RandomCrop(32, padding=4),\n",
    "    transforms.RandomHorizontalFlip(),\n",
    "    transforms.ToTensor(),\n",
    "    transforms.Normalize((0.5, 0.5, 0.5), (0.5, 0.5, 0.5))\n",
    "])\n",
    "transform_test = transforms.Compose([\n",
    "    transforms.ToTensor(),\n",
    "    transforms.Normalize((0.5, 0.5, 0.5), (0.5, 0.5, 0.5))\n",
    "])\n",
    "data_path = '../data-unversioned/p1ch7/'\n",
    "trainset = datasets.CIFAR10(root=data_path, train=True,\n",
    "                            download=True, transform=transform_train)\n",
    "testset = datasets.CIFAR10(root=data_path, train=False,\n",
    "                           download=True, transform=transform_test)\n",
    "trainloader = torch.utils.data.DataLoader(trainset, batch_size=128,\n",
    "                                          shuffle=True, num_workers=4)\n",
    "testloader = torch.utils.data.DataLoader(testset, batch_size=100,\n",
    "                                         shuffle=False, num_workers=4)\n"
   ]
  },
  {
   "cell_type": "code",
   "execution_count": 6,
   "outputs": [
    {
     "name": "stdout",
     "output_type": "stream",
     "text": [
      "2023-06-25 17:19:00.604049 开始运算\n",
      "Epoch: 1，时间:2023-06-25 17:19:00.604049\n",
      "Epoch: 1, Train Loss: 1.8845, Train Acc: 0.3203\n",
      "Epoch: 2，时间:2023-06-25 17:19:23.331927\n",
      "Epoch: 2, Train Loss: 1.4228, Train Acc: 0.4753\n",
      "Epoch: 3，时间:2023-06-25 17:19:45.975412\n",
      "Epoch: 3, Train Loss: 1.1512, Train Acc: 0.5852\n",
      "Epoch: 4，时间:2023-06-25 17:20:08.650405\n",
      "Epoch: 4, Train Loss: 0.9564, Train Acc: 0.6619\n",
      "Epoch: 5，时间:2023-06-25 17:20:31.580738\n",
      "Epoch: 5, Train Loss: 0.8275, Train Acc: 0.7062\n",
      "Epoch: 6，时间:2023-06-25 17:20:54.789332\n",
      "Epoch: 6, Train Loss: 0.7308, Train Acc: 0.7417\n",
      "Epoch: 7，时间:2023-06-25 17:21:17.677636\n",
      "Epoch: 7, Train Loss: 0.6360, Train Acc: 0.7746\n",
      "Epoch: 8，时间:2023-06-25 17:21:40.877488\n",
      "Epoch: 8, Train Loss: 0.5586, Train Acc: 0.8066\n",
      "Epoch: 9，时间:2023-06-25 17:22:03.833351\n",
      "Epoch: 9, Train Loss: 0.5038, Train Acc: 0.8242\n",
      "Epoch: 10，时间:2023-06-25 17:22:26.806979\n",
      "Epoch: 10, Train Loss: 0.4593, Train Acc: 0.8400\n",
      "Epoch: 11，时间:2023-06-25 17:22:49.805525\n",
      "Epoch: 11, Train Loss: 0.4306, Train Acc: 0.8496\n",
      "Epoch: 12，时间:2023-06-25 17:23:12.767357\n",
      "Epoch: 12, Train Loss: 0.3886, Train Acc: 0.8656\n",
      "Epoch: 13，时间:2023-06-25 17:23:35.693366\n",
      "Epoch: 13, Train Loss: 0.3675, Train Acc: 0.8725\n",
      "Epoch: 14，时间:2023-06-25 17:23:58.778664\n",
      "Epoch: 14, Train Loss: 0.3401, Train Acc: 0.8818\n",
      "Epoch: 15，时间:2023-06-25 17:24:21.955479\n",
      "Epoch: 15, Train Loss: 0.3220, Train Acc: 0.8884\n",
      "Epoch: 16，时间:2023-06-25 17:24:45.039431\n",
      "Epoch: 16, Train Loss: 0.3036, Train Acc: 0.8940\n",
      "Epoch: 17，时间:2023-06-25 17:25:08.090318\n",
      "Epoch: 17, Train Loss: 0.2808, Train Acc: 0.9021\n",
      "Epoch: 18，时间:2023-06-25 17:25:31.278588\n",
      "Epoch: 18, Train Loss: 0.2724, Train Acc: 0.9052\n",
      "Epoch: 19，时间:2023-06-25 17:25:54.539476\n",
      "Epoch: 19, Train Loss: 0.2590, Train Acc: 0.9095\n",
      "Epoch: 20，时间:2023-06-25 17:26:17.514274\n",
      "Epoch: 20, Train Loss: 0.2434, Train Acc: 0.9131\n",
      "2023-06-25 17:26:40.490259 结束运算\n"
     ]
    }
   ],
   "source": [
    "class ResidualBlock(nn.Module):\n",
    "    def __init__(self, inchannel, outchannel, stride=1):\n",
    "        super(ResidualBlock, self).__init__()\n",
    "        self.left = nn.Sequential(\n",
    "            nn.Conv2d(inchannel, outchannel, kernel_size=3, stride=stride, padding=1, bias=False),\n",
    "            nn.BatchNorm2d(outchannel),\n",
    "            nn.ReLU(inplace=True),\n",
    "            nn.Conv2d(outchannel, outchannel, kernel_size=3, stride=1, padding=1, bias=False),\n",
    "            nn.BatchNorm2d(outchannel)\n",
    "        )\n",
    "        self.shortcut = nn.Sequential()\n",
    "        if stride != 1 or inchannel != outchannel:\n",
    "            self.shortcut = nn.Sequential(\n",
    "                nn.Conv2d(inchannel, outchannel, kernel_size=1, stride=stride, bias=False),\n",
    "                nn.BatchNorm2d(outchannel)\n",
    "            )\n",
    "\n",
    "    def forward(self, x):\n",
    "        out = self.left(x)\n",
    "        out += self.shortcut(x)\n",
    "        out = F.relu(out)\n",
    "        return out\n",
    "\n",
    "class ResNet(nn.Module):\n",
    "    def __init__(self, ResidualBlock, num_classes=10):\n",
    "        super(ResNet, self).__init__()\n",
    "        self.inchannel = 64\n",
    "        self.conv1 = nn.Sequential(\n",
    "            nn.Conv2d(3, 64, kernel_size=3, stride=1, padding=1, bias=False),\n",
    "            nn.BatchNorm2d(64),\n",
    "            nn.ReLU(),\n",
    "        )\n",
    "        self.layer1 = self.make_layer(ResidualBlock, 64,  2, stride=1)\n",
    "        self.layer2 = self.make_layer(ResidualBlock, 128, 2, stride=2)\n",
    "        self.layer3 = self.make_layer(ResidualBlock, 256, 2, stride=2)\n",
    "        self.layer4 = self.make_layer(ResidualBlock, 512, 2, stride=2)\n",
    "        self.fc = nn.Linear(512, num_classes)\n",
    "\n",
    "    def make_layer(self, block, channels, num_blocks, stride):\n",
    "        strides = [stride] + [1] * (num_blocks - 1)   #strides=[1,1]\n",
    "        layers = []\n",
    "        for stride in strides:\n",
    "            layers.append(block(self.inchannel, channels, stride))\n",
    "            self.inchannel = channels\n",
    "        return nn.Sequential(*layers)\n",
    "\n",
    "    def forward(self, x):\n",
    "        out = self.conv1(x)\n",
    "        out = self.layer1(out)\n",
    "        out = self.layer2(out)\n",
    "        out = self.layer3(out)\n",
    "        out = self.layer4(out)\n",
    "        out = F.avg_pool2d(out, 4)\n",
    "        out = out.view(out.size(0), -1)\n",
    "        out = self.fc(out)\n",
    "        return out\n",
    "\n",
    "\n",
    "def ResNet18():\n",
    "    return ResNet(ResidualBlock)\n",
    "\n",
    "# 定义超参数\n",
    "batch_size = 128\n",
    "epochs = 20\n",
    "lr = 0.1\n",
    "momentum = 0.9\n",
    "weight_decay = 1e-4\n",
    "\n",
    "# 定义是否使用GPU\n",
    "device = torch.device(\"cuda\" if torch.cuda.is_available() else \"cpu\")\n",
    "# Cifar-10的标签\n",
    "classes = ('plane', 'car', 'bird', 'cat', 'deer', 'dog', 'frog', 'horse', 'ship', 'truck')\n",
    "\n",
    "# 模型定义-ResNet\n",
    "# model = ResNet18()\n",
    "model = ResNet18().to(device)\n",
    "\n",
    "# 定义损失函数和优化方式\n",
    "criterion = nn.CrossEntropyLoss()  #损失函数为交叉熵，多用于多分类问题\n",
    "optimizer = optim.SGD(model.parameters(), lr=lr, momentum=momentum, weight_decay=weight_decay)\n",
    "\n",
    "train_loader = torch.utils.data.DataLoader(trainset, batch_size=batch_size, shuffle=True, num_workers=2)\n",
    "test_loader = torch.utils.data.DataLoader(testset, batch_size=batch_size, shuffle=True, num_workers=2)\n",
    "\n",
    "print(datetime.datetime.now(), '开始运算')\n",
    "#训练模型\n",
    "for epoch in range(epochs):\n",
    "    print('Epoch: {}，时间:{}'.format(epoch+1, datetime.datetime.now()))\n",
    "    train_loss = 0.0\n",
    "    train_acc = 0.0\n",
    "    model.train()\n",
    "    for i, (inputs, labels) in enumerate(train_loader):\n",
    "        inputs, labels = inputs.to(device), labels.to(device)\n",
    "        # inputs, labels = inputs, labels\n",
    "        optimizer.zero_grad()\n",
    "        outputs = model(inputs)\n",
    "        loss = criterion(outputs, labels)\n",
    "        loss.backward()\n",
    "        optimizer.step()\n",
    "        train_loss += loss.item() * inputs.size(0)\n",
    "        _, preds = torch.max(outputs, 1)\n",
    "        train_acc += torch.sum(preds == labels.data)\n",
    "\n",
    "    train_loss /= len(train_loader.dataset)\n",
    "    train_acc /= len(train_loader.dataset)\n",
    "    print('Epoch: {}, Train Loss: {:.4f}, Train Acc: {:.4f}'.format(epoch+1, train_loss, train_acc))\n",
    "\n",
    "print(datetime.datetime.now(), '结束运算')"
   ],
   "metadata": {
    "collapsed": false,
    "ExecuteTime": {
     "end_time": "2023-06-25T09:26:40.505260100Z",
     "start_time": "2023-06-25T09:19:00.489049600Z"
    }
   }
  },
  {
   "cell_type": "code",
   "execution_count": 7,
   "outputs": [],
   "source": [
    "# 保存和导出相应模型\n"
   ],
   "metadata": {
    "collapsed": false,
    "ExecuteTime": {
     "end_time": "2023-06-25T09:26:40.536260700Z",
     "start_time": "2023-06-25T09:26:40.505260100Z"
    }
   }
  },
  {
   "cell_type": "code",
   "execution_count": 8,
   "outputs": [
    {
     "name": "stdout",
     "output_type": "stream",
     "text": [
      "2023-06-25 17:26:40.527259 开始运算\n",
      "Accuracy train: 0.92\n",
      "Accuracy val: 0.86\n",
      "2023-06-25 17:26:56.175025 结束运算\n"
     ]
    }
   ],
   "source": [
    "train_loader = torch.utils.data.DataLoader(trainset, batch_size=64,\n",
    "                                           shuffle=False)\n",
    "val_loader = torch.utils.data.DataLoader(testset, batch_size=64,\n",
    "                                         shuffle=False)\n",
    "\n",
    "def validate(model, train_loader, val_loader):\n",
    "    for name, loader in [(\"train\", train_loader), (\"val\", val_loader)]:\n",
    "        correct = 0\n",
    "        total = 0\n",
    "        with torch.no_grad():  # <1>\n",
    "            for imgs, labels in loader:\n",
    "                outputs = model(imgs.to(device))\n",
    "                _, predicted = torch.max(outputs, dim=1) # <2>\n",
    "                total += labels.shape[0]  # <3>\n",
    "                correct += int((predicted == labels.to(device)).sum())  # <4>\n",
    "        print(\"Accuracy {}: {:.2f}\".format(name , correct / total))\n",
    "\n",
    "print(datetime.datetime.now(), '开始运算')\n",
    "validate(model, train_loader, val_loader)\n",
    "print(datetime.datetime.now(), '结束运算')"
   ],
   "metadata": {
    "collapsed": false,
    "ExecuteTime": {
     "end_time": "2023-06-25T09:26:56.189025900Z",
     "start_time": "2023-06-25T09:26:40.524259800Z"
    }
   }
  },
  {
   "cell_type": "code",
   "execution_count": 8,
   "outputs": [],
   "source": [],
   "metadata": {
    "collapsed": false,
    "ExecuteTime": {
     "end_time": "2023-06-25T09:26:56.208025800Z",
     "start_time": "2023-06-25T09:26:56.190026Z"
    }
   }
  }
 ],
 "metadata": {
  "kernelspec": {
   "display_name": "Python 3",
   "language": "python",
   "name": "python3"
  },
  "language_info": {
   "codemirror_mode": {
    "name": "ipython",
    "version": 2
   },
   "file_extension": ".py",
   "mimetype": "text/x-python",
   "name": "python",
   "nbconvert_exporter": "python",
   "pygments_lexer": "ipython2",
   "version": "2.7.6"
  }
 },
 "nbformat": 4,
 "nbformat_minor": 0
}
