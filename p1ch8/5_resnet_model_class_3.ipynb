{
 "cells": [
  {
   "cell_type": "code",
   "execution_count": 1,
   "metadata": {
    "collapsed": true,
    "ExecuteTime": {
     "end_time": "2023-06-25T08:54:25.580671700Z",
     "start_time": "2023-06-25T08:54:22.850740300Z"
    }
   },
   "outputs": [
    {
     "name": "stdout",
     "output_type": "stream",
     "text": [
      "Files already downloaded and verified\n",
      "Files already downloaded and verified\n"
     ]
    }
   ],
   "source": [
    "import torch\n",
    "import torch.nn.functional as F\n",
    "import torch.nn as nn\n",
    "import torch.optim as optim\n",
    "import torchvision.datasets as datasets\n",
    "import torchvision.transforms as transforms\n",
    "import torchvision.models as models\n",
    "import datetime\n",
    "import time\n",
    "\n",
    "# 加载数据集并进行预处理\n",
    "transform_train = transforms.Compose([\n",
    "    transforms.RandomCrop(32, padding=4),\n",
    "    transforms.RandomHorizontalFlip(),\n",
    "    transforms.ToTensor(),\n",
    "    transforms.Normalize((0.5, 0.5, 0.5), (0.5, 0.5, 0.5))\n",
    "])\n",
    "transform_test = transforms.Compose([\n",
    "    transforms.ToTensor(),\n",
    "    transforms.Normalize((0.5, 0.5, 0.5), (0.5, 0.5, 0.5))\n",
    "])\n",
    "data_path = '../data-unversioned/p1ch7/'\n",
    "trainset = datasets.CIFAR10(root=data_path, train=True,\n",
    "                            download=True, transform=transform_train)\n",
    "testset = datasets.CIFAR10(root=data_path, train=False,\n",
    "                           download=True, transform=transform_test)\n",
    "trainloader = torch.utils.data.DataLoader(trainset, batch_size=128,\n",
    "                                          shuffle=True, num_workers=4)\n",
    "testloader = torch.utils.data.DataLoader(testset, batch_size=100,\n",
    "                                         shuffle=False, num_workers=4)\n"
   ]
  },
  {
   "cell_type": "code",
   "execution_count": 2,
   "outputs": [
    {
     "name": "stdout",
     "output_type": "stream",
     "text": [
      "2023-06-25 16:54:25.832673 开始运算\n",
      "Epoch: 1，时间:2023-06-25 16:54:25.832673\n",
      "Epoch: 1, Train Loss: 1.9689, Train Acc: 0.2927\n",
      "Epoch: 2，时间:2023-06-25 16:54:50.616635\n",
      "Epoch: 2, Train Loss: 1.4798, Train Acc: 0.4545\n",
      "Epoch: 3，时间:2023-06-25 16:55:13.394815\n",
      "Epoch: 3, Train Loss: 1.2439, Train Acc: 0.5473\n",
      "Epoch: 4，时间:2023-06-25 16:55:36.274876\n",
      "Epoch: 4, Train Loss: 1.0402, Train Acc: 0.6280\n",
      "Epoch: 5，时间:2023-06-25 16:55:58.868542\n",
      "Epoch: 5, Train Loss: 0.8903, Train Acc: 0.6844\n",
      "Epoch: 6，时间:2023-06-25 16:56:21.494529\n",
      "Epoch: 6, Train Loss: 0.7752, Train Acc: 0.7266\n",
      "Epoch: 7，时间:2023-06-25 16:56:44.409164\n",
      "Epoch: 7, Train Loss: 0.6837, Train Acc: 0.7614\n",
      "Epoch: 8，时间:2023-06-25 16:57:07.507515\n",
      "Epoch: 8, Train Loss: 0.5988, Train Acc: 0.7916\n",
      "Epoch: 9，时间:2023-06-25 16:57:36.787833\n",
      "Epoch: 9, Train Loss: 0.5359, Train Acc: 0.8149\n",
      "Epoch: 10，时间:2023-06-25 16:58:14.944827\n",
      "Epoch: 10, Train Loss: 0.4838, Train Acc: 0.8331\n",
      "Epoch: 11，时间:2023-06-25 16:58:53.110568\n",
      "Epoch: 11, Train Loss: 0.4483, Train Acc: 0.8438\n",
      "Epoch: 12，时间:2023-06-25 16:59:31.298507\n",
      "Epoch: 12, Train Loss: 0.4154, Train Acc: 0.8568\n",
      "Epoch: 13，时间:2023-06-25 17:00:10.052810\n",
      "Epoch: 13, Train Loss: 0.3816, Train Acc: 0.8683\n",
      "Epoch: 14，时间:2023-06-25 17:00:48.204853\n",
      "Epoch: 14, Train Loss: 0.3572, Train Acc: 0.8750\n",
      "Epoch: 15，时间:2023-06-25 17:01:26.416015\n",
      "Epoch: 15, Train Loss: 0.3361, Train Acc: 0.8850\n",
      "Epoch: 16，时间:2023-06-25 17:02:04.630525\n",
      "Epoch: 16, Train Loss: 0.3156, Train Acc: 0.8903\n",
      "Epoch: 17，时间:2023-06-25 17:02:42.977507\n",
      "Epoch: 17, Train Loss: 0.2971, Train Acc: 0.8951\n",
      "Epoch: 18，时间:2023-06-25 17:03:21.367658\n",
      "Epoch: 18, Train Loss: 0.2766, Train Acc: 0.9031\n",
      "Epoch: 19，时间:2023-06-25 17:03:59.582529\n",
      "Epoch: 19, Train Loss: 0.2645, Train Acc: 0.9077\n",
      "Epoch: 20，时间:2023-06-25 17:04:37.839740\n",
      "Epoch: 20, Train Loss: 0.2498, Train Acc: 0.9130\n",
      "2023-06-25 17:05:16.024413 结束运算\n"
     ]
    }
   ],
   "source": [
    "class ResidualBlock(nn.Module):\n",
    "    def __init__(self, inchannel, outchannel, stride=1):\n",
    "        super(ResidualBlock, self).__init__()\n",
    "        self.left = nn.Sequential(\n",
    "            nn.Conv2d(inchannel, outchannel, kernel_size=3, stride=stride, padding=1, bias=False),\n",
    "            nn.BatchNorm2d(outchannel),\n",
    "            nn.ReLU(inplace=True),\n",
    "            nn.Conv2d(outchannel, outchannel, kernel_size=3, stride=1, padding=1, bias=False),\n",
    "            nn.BatchNorm2d(outchannel)\n",
    "        )\n",
    "        self.shortcut = nn.Sequential()\n",
    "        if stride != 1 or inchannel != outchannel:\n",
    "            self.shortcut = nn.Sequential(\n",
    "                nn.Conv2d(inchannel, outchannel, kernel_size=1, stride=stride, bias=False),\n",
    "                nn.BatchNorm2d(outchannel)\n",
    "            )\n",
    "\n",
    "    def forward(self, x):\n",
    "        out = self.left(x)\n",
    "        out += self.shortcut(x)\n",
    "        out = F.relu(out)\n",
    "        return out\n",
    "\n",
    "class ResNet(nn.Module):\n",
    "    def __init__(self, ResidualBlock, num_classes=10):\n",
    "        super(ResNet, self).__init__()\n",
    "        self.inchannel = 64\n",
    "        self.conv1 = nn.Sequential(\n",
    "            nn.Conv2d(3, 64, kernel_size=3, stride=1, padding=1, bias=False),\n",
    "            nn.BatchNorm2d(64),\n",
    "            nn.ReLU(),\n",
    "        )\n",
    "        self.layer1 = self.make_layer(ResidualBlock, 64,  2, stride=1)\n",
    "        self.layer2 = self.make_layer(ResidualBlock, 128, 2, stride=2)\n",
    "        self.layer3 = self.make_layer(ResidualBlock, 256, 2, stride=2)\n",
    "        self.layer4 = self.make_layer(ResidualBlock, 512, 2, stride=2)\n",
    "        self.fc = nn.Linear(512, num_classes)\n",
    "\n",
    "    def make_layer(self, block, channels, num_blocks, stride):\n",
    "        strides = [stride] + [1] * (num_blocks - 1)   #strides=[1,1]\n",
    "        layers = []\n",
    "        for stride in strides:\n",
    "            layers.append(block(self.inchannel, channels, stride))\n",
    "            self.inchannel = channels\n",
    "        return nn.Sequential(*layers)\n",
    "\n",
    "    def forward(self, x):\n",
    "        out = self.conv1(x)\n",
    "        out = self.layer1(out)\n",
    "        out = self.layer2(out)\n",
    "        out = self.layer3(out)\n",
    "        out = self.layer4(out)\n",
    "        out = F.avg_pool2d(out, 4)\n",
    "        out = out.view(out.size(0), -1)\n",
    "        out = self.fc(out)\n",
    "        return out\n",
    "\n",
    "\n",
    "def ResNet18():\n",
    "    return ResNet(ResidualBlock)\n",
    "\n",
    "# 定义超参数\n",
    "batch_size = 128\n",
    "epochs = 20\n",
    "lr = 0.1\n",
    "momentum = 0.9\n",
    "weight_decay = 1e-4\n",
    "\n",
    "# 定义是否使用GPU\n",
    "device = torch.device(\"cuda\" if torch.cuda.is_available() else \"cpu\")\n",
    "# Cifar-10的标签\n",
    "classes = ('plane', 'car', 'bird', 'cat', 'deer', 'dog', 'frog', 'horse', 'ship', 'truck')\n",
    "\n",
    "# 模型定义-ResNet\n",
    "# model = ResNet18()\n",
    "model = ResNet18().to(device)\n",
    "\n",
    "# 定义损失函数和优化方式\n",
    "criterion = nn.CrossEntropyLoss()  #损失函数为交叉熵，多用于多分类问题\n",
    "optimizer = optim.SGD(model.parameters(), lr=lr, momentum=momentum, weight_decay=weight_decay)\n",
    "\n",
    "train_loader = torch.utils.data.DataLoader(trainset, batch_size=batch_size, shuffle=True, num_workers=2)\n",
    "test_loader = torch.utils.data.DataLoader(testset, batch_size=batch_size, shuffle=True, num_workers=2)\n",
    "\n",
    "print(datetime.datetime.now(), '开始运算')\n",
    "#训练模型\n",
    "for epoch in range(epochs):\n",
    "    print('Epoch: {}，时间:{}'.format(epoch+1, datetime.datetime.now()))\n",
    "    train_loss = 0.0\n",
    "    train_acc = 0.0\n",
    "    model.train()\n",
    "    for i, (inputs, labels) in enumerate(train_loader):\n",
    "        inputs, labels = inputs.to(device), labels.to(device)\n",
    "        # inputs, labels = inputs, labels\n",
    "        optimizer.zero_grad()\n",
    "        outputs = model(inputs)\n",
    "        loss = criterion(outputs, labels)\n",
    "        loss.backward()\n",
    "        optimizer.step()\n",
    "        train_loss += loss.item() * inputs.size(0)\n",
    "        _, preds = torch.max(outputs, 1)\n",
    "        train_acc += torch.sum(preds == labels.data)\n",
    "\n",
    "    train_loss /= len(train_loader.dataset)\n",
    "    train_acc /= len(train_loader.dataset)\n",
    "    print('Epoch: {}, Train Loss: {:.4f}, Train Acc: {:.4f}'.format(epoch+1, train_loss, train_acc))\n",
    "\n",
    "print(datetime.datetime.now(), '结束运算')"
   ],
   "metadata": {
    "collapsed": false,
    "ExecuteTime": {
     "end_time": "2023-06-25T09:05:16.030413200Z",
     "start_time": "2023-06-25T08:54:25.591671Z"
    }
   }
  },
  {
   "cell_type": "code",
   "execution_count": 3,
   "outputs": [
    {
     "name": "stdout",
     "output_type": "stream",
     "text": [
      "Accuracy train: 0.91\n",
      "Accuracy val: 0.85\n"
     ]
    }
   ],
   "source": [
    "device = torch.device('cuda')\n",
    "train_loader = torch.utils.data.DataLoader(trainset, batch_size=64,\n",
    "                                           shuffle=False)\n",
    "val_loader = torch.utils.data.DataLoader(testset, batch_size=64,\n",
    "                                         shuffle=False)\n",
    "\n",
    "def validate(model, train_loader, val_loader):\n",
    "    for name, loader in [(\"train\", train_loader), (\"val\", val_loader)]:\n",
    "        correct = 0\n",
    "        total = 0\n",
    "        with torch.no_grad():  # <1>\n",
    "            for imgs, labels in loader:\n",
    "                outputs = model(imgs.to(device))\n",
    "                _, predicted = torch.max(outputs, dim=1) # <2>\n",
    "                total += labels.to(device).shape[0]  # <3>\n",
    "                correct += int((predicted == labels.to(device)).sum())  # <4>\n",
    "\n",
    "        print(\"Accuracy {}: {:.2f}\".format(name , correct / total))\n",
    "\n",
    "validate(model, train_loader, val_loader)"
   ],
   "metadata": {
    "collapsed": false,
    "ExecuteTime": {
     "end_time": "2023-06-25T09:05:44.018595900Z",
     "start_time": "2023-06-25T09:05:16.036413900Z"
    }
   }
  },
  {
   "cell_type": "code",
   "execution_count": 3,
   "outputs": [],
   "source": [],
   "metadata": {
    "collapsed": false,
    "ExecuteTime": {
     "end_time": "2023-06-25T09:05:44.037596300Z",
     "start_time": "2023-06-25T09:05:44.018595900Z"
    }
   }
  }
 ],
 "metadata": {
  "kernelspec": {
   "display_name": "Python 3",
   "language": "python",
   "name": "python3"
  },
  "language_info": {
   "codemirror_mode": {
    "name": "ipython",
    "version": 2
   },
   "file_extension": ".py",
   "mimetype": "text/x-python",
   "name": "python",
   "nbconvert_exporter": "python",
   "pygments_lexer": "ipython2",
   "version": "2.7.6"
  }
 },
 "nbformat": 4,
 "nbformat_minor": 0
}
